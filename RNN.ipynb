{
 "cells": [
  {
   "cell_type": "code",
   "execution_count": 1,
   "id": "0ba13c74-3e5b-47ea-a9e3-b50125c56fb7",
   "metadata": {},
   "outputs": [],
   "source": [
    "import pandas as pd\n",
    "import numpy as np\n",
    "\n",
    "import tensorflow as tf\n",
    "from tensorflow.keras.models import Sequential\n",
    "from tensorflow.keras.layers import SimpleRNN, LSTM, GRU, Dense\n",
    "from tensorflow.keras.optimizers import Adam\n",
    "\n",
    "from sklearn.model_selection import train_test_split\n",
    "\n",
    "import matplotlib.pyplot as plt "
   ]
  },
  {
   "cell_type": "code",
   "execution_count": 3,
   "id": "84711abb-897b-454a-a2b9-bd0a4e321d60",
   "metadata": {},
   "outputs": [],
   "source": [
    "path='/Users/nihaalnadaf/Downloads/equity/'\n",
    "X = pd.read_csv(path + \"calls_data.csv\")\n",
    "y = pd.read_csv(path + \"calls_target.csv\")\n",
    "\n",
    "# splitting into train and test set\n",
    "X_train, X_test, y_train, y_test = train_test_split(X, y, test_size=0.2)"
   ]
  },
  {
   "cell_type": "code",
   "execution_count": 9,
   "id": "6688ba1d-6ebc-4a3a-a316-12acc3aaee1f",
   "metadata": {},
   "outputs": [],
   "source": [
    "X_train_arr = X_train.values"
   ]
  },
  {
   "cell_type": "code",
   "execution_count": 11,
   "id": "b7dd2f8c-96ff-410b-b053-363bba391bcc",
   "metadata": {},
   "outputs": [],
   "source": [
    "def create_dataset(X, time_steps = 1):\n",
    "  Xs = []\n",
    "  for i in range(len(X) - time_steps):\n",
    "    v = X[i:(i + time_steps)]\n",
    "    Xs.append(v)\n",
    "  return np.array(Xs)"
   ]
  },
  {
   "cell_type": "code",
   "execution_count": 13,
   "id": "7e44879e-4630-4399-ba06-65756bf7eca0",
   "metadata": {},
   "outputs": [
    {
     "name": "stdout",
     "output_type": "stream",
     "text": [
      "(321887, 5, 31)\n"
     ]
    }
   ],
   "source": [
    "time_steps = 5\n",
    "X_train_3D = create_dataset(X_train_arr, time_steps)\n",
    "\n",
    "\n",
    "print(X_train_3D.shape)"
   ]
  },
  {
   "cell_type": "code",
   "execution_count": 15,
   "id": "39a302db-c3f6-4585-8f82-b64960fbb3e5",
   "metadata": {},
   "outputs": [
    {
     "data": {
      "text/plain": [
       "array([[ 2.50865000e+03,  4.92203600e+06,  2.51467000e+03,\n",
       "         2.26000000e+03,  0.00000000e+00,  0.00000000e+00,\n",
       "         0.00000000e+00,  3.40150000e+02,  0.00000000e+00,\n",
       "         0.00000000e+00,  0.00000000e+00,  1.39726027e-01,\n",
       "         9.65413447e-01,  4.80005616e-04,  7.17550877e-01,\n",
       "        -5.02570495e-01,  3.00490966e+00,  2.71327778e+01,\n",
       "         0.00000000e+00,  2.93987946e-03,  2.52577102e-01,\n",
       "         2.30405391e-07,  3.93560430e+07, -1.26937799e-01,\n",
       "         2.04940781e+00,  5.82938670e+00,  0.00000000e+00,\n",
       "         0.00000000e+00,  0.00000000e+00,  1.54092328e+01,\n",
       "         0.00000000e+00],\n",
       "       [ 8.38600000e+02,  3.52872900e+06,  8.39690000e+02,\n",
       "         9.80000000e+02,  0.00000000e+00,  0.00000000e+00,\n",
       "         0.00000000e+00,  1.32000000e+01,  0.00000000e+00,\n",
       "         0.00000000e+00,  0.00000000e+00,  1.01369863e-01,\n",
       "         3.16639688e-03,  2.11609792e-04,  2.56450327e-02,\n",
       "        -6.35664829e-03,  2.64818604e-03,  1.85714356e-08,\n",
       "         0.00000000e+00,  7.57575758e-02,  4.04069775e-05,\n",
       "         4.47787039e-08,  2.29996800e+03, -2.56852945e-07,\n",
       "         1.02597670e+00,  2.58021683e+00,  0.00000000e+00,\n",
       "         0.00000000e+00,  0.00000000e+00,  1.50764483e+01,\n",
       "         0.00000000e+00],\n",
       "       [ 2.89610000e+03,  1.19467190e+07,  2.84226000e+03,\n",
       "         2.82000000e+03,  0.00000000e+00,  0.00000000e+00,\n",
       "         0.00000000e+00,  6.38000000e+01,  0.00000000e+00,\n",
       "         0.00000000e+00,  0.00000000e+00,  1.61643836e-01,\n",
       "         7.18196701e-01,  1.70588543e-03,  3.93174222e+00,\n",
       "        -9.11651027e-01,  3.13347719e+00,  3.07666077e+01,\n",
       "         0.00000000e+00,  1.56739812e-02,  8.31107596e-01,\n",
       "         2.91004510e-06,  2.59694072e+05, -7.57680093e-01,\n",
       "         5.09957460e+01,  4.15575319e+00,  0.00000000e+00,\n",
       "         0.00000000e+00,  0.00000000e+00,  1.62959672e+01,\n",
       "         0.00000000e+00],\n",
       "       [ 2.16030000e+03,  2.72857820e+07,  2.15429000e+03,\n",
       "         1.62000000e+03,  0.00000000e+00,  0.00000000e+00,\n",
       "         0.00000000e+00,  4.22050000e+02,  0.00000000e+00,\n",
       "         0.00000000e+00,  0.00000000e+00,  6.57534247e-02,\n",
       "         1.00000000e+00,  6.51437011e-13,  3.39834807e-10,\n",
       "        -2.87262770e-01,  1.06066254e+00,  1.19325067e+00,\n",
       "         0.00000000e+00,  2.36938751e-03,  8.25198991e-02,\n",
       "         4.24370180e-25,  7.51781638e+07, -2.37048948e-02,\n",
       "         1.00000000e+00,  6.04512379e+00,  0.00000000e+00,\n",
       "         0.00000000e+00,  0.00000000e+00,  1.71218763e+01,\n",
       "         0.00000000e+00],\n",
       "       [ 2.09795000e+03,  5.78462700e+06,  2.10937000e+03,\n",
       "         2.00000000e+03,  0.00000000e+00,  0.00000000e+00,\n",
       "         0.00000000e+00,  2.75650000e+02,  0.00000000e+00,\n",
       "         0.00000000e+00,  0.00000000e+00,  2.49315068e-01,\n",
       "         7.87169938e-01,  1.63110694e-03,  3.04277719e+00,\n",
       "        -5.51142179e-01,  3.73697418e+00,  5.21867546e+01,\n",
       "         0.00000000e+00,  3.62778886e-03,  3.03757701e-01,\n",
       "         2.66050985e-06,  2.09446926e+07, -1.67413681e-01,\n",
       "         2.09633818e+01,  5.61913195e+00,  0.00000000e+00,\n",
       "         0.00000000e+00,  0.00000000e+00,  1.55707144e+01,\n",
       "         0.00000000e+00]])"
      ]
     },
     "execution_count": 15,
     "metadata": {},
     "output_type": "execute_result"
    }
   ],
   "source": [
    "X_train_3D[1]"
   ]
  },
  {
   "cell_type": "code",
   "execution_count": 17,
   "id": "e44c3edc-646c-4b42-9945-522bc4f9e956",
   "metadata": {},
   "outputs": [],
   "source": [
    "X_test_3D = create_dataset(X_test, time_steps)\n",
    "y_test_3D = create_dataset(y_test, time_steps)"
   ]
  },
  {
   "cell_type": "markdown",
   "id": "e669ed84-58a0-41e4-ac4f-c3191b81be4a",
   "metadata": {},
   "source": [
    "### Training the LSTM RNN"
   ]
  },
  {
   "cell_type": "code",
   "execution_count": 20,
   "id": "281b6cc2-5cf8-42d9-a9ad-9642646ab99b",
   "metadata": {},
   "outputs": [
    {
     "name": "stderr",
     "output_type": "stream",
     "text": [
      "/opt/anaconda3/lib/python3.12/site-packages/keras/src/layers/rnn/rnn.py:204: UserWarning: Do not pass an `input_shape`/`input_dim` argument to a layer. When using Sequential models, prefer using an `Input(shape)` object as the first layer in the model instead.\n",
      "  super().__init__(**kwargs)\n"
     ]
    },
    {
     "name": "stdout",
     "output_type": "stream",
     "text": [
      "Epoch 1/15\n",
      "\u001b[1m8048/8048\u001b[0m \u001b[32m━━━━━━━━━━━━━━━━━━━━\u001b[0m\u001b[37m\u001b[0m \u001b[1m17s\u001b[0m 2ms/step - loss: 85843.4531 - mse: 85843.4531 - val_loss: 60048.5352 - val_mse: 60048.5352\n",
      "Epoch 2/15\n",
      "\u001b[1m8048/8048\u001b[0m \u001b[32m━━━━━━━━━━━━━━━━━━━━\u001b[0m\u001b[37m\u001b[0m \u001b[1m15s\u001b[0m 2ms/step - loss: 55394.2344 - mse: 55394.2344 - val_loss: 55283.6719 - val_mse: 55283.6719\n",
      "Epoch 3/15\n",
      "\u001b[1m8048/8048\u001b[0m \u001b[32m━━━━━━━━━━━━━━━━━━━━\u001b[0m\u001b[37m\u001b[0m \u001b[1m15s\u001b[0m 2ms/step - loss: 52585.3359 - mse: 52585.3359 - val_loss: 54756.2930 - val_mse: 54756.2930\n",
      "Epoch 4/15\n",
      "\u001b[1m8048/8048\u001b[0m \u001b[32m━━━━━━━━━━━━━━━━━━━━\u001b[0m\u001b[37m\u001b[0m \u001b[1m16s\u001b[0m 2ms/step - loss: 50298.6094 - mse: 50298.6094 - val_loss: 54415.8789 - val_mse: 54415.8789\n",
      "Epoch 5/15\n",
      "\u001b[1m8048/8048\u001b[0m \u001b[32m━━━━━━━━━━━━━━━━━━━━\u001b[0m\u001b[37m\u001b[0m \u001b[1m16s\u001b[0m 2ms/step - loss: 53167.0078 - mse: 53167.0078 - val_loss: 54281.7656 - val_mse: 54281.7656\n",
      "Epoch 6/15\n",
      "\u001b[1m8048/8048\u001b[0m \u001b[32m━━━━━━━━━━━━━━━━━━━━\u001b[0m\u001b[37m\u001b[0m \u001b[1m17s\u001b[0m 2ms/step - loss: 52017.4766 - mse: 52017.4766 - val_loss: 53783.6367 - val_mse: 53783.6367\n",
      "Epoch 7/15\n",
      "\u001b[1m8048/8048\u001b[0m \u001b[32m━━━━━━━━━━━━━━━━━━━━\u001b[0m\u001b[37m\u001b[0m \u001b[1m20s\u001b[0m 2ms/step - loss: 52200.1445 - mse: 52200.1445 - val_loss: 53816.8828 - val_mse: 53816.8828\n",
      "Epoch 8/15\n",
      "\u001b[1m8048/8048\u001b[0m \u001b[32m━━━━━━━━━━━━━━━━━━━━\u001b[0m\u001b[37m\u001b[0m \u001b[1m20s\u001b[0m 2ms/step - loss: 50929.5508 - mse: 50929.5508 - val_loss: 53838.7930 - val_mse: 53838.7930\n",
      "Epoch 9/15\n",
      "\u001b[1m8048/8048\u001b[0m \u001b[32m━━━━━━━━━━━━━━━━━━━━\u001b[0m\u001b[37m\u001b[0m \u001b[1m18s\u001b[0m 2ms/step - loss: 50762.6992 - mse: 50762.6992 - val_loss: 53817.9102 - val_mse: 53817.9102\n",
      "Epoch 10/15\n",
      "\u001b[1m8048/8048\u001b[0m \u001b[32m━━━━━━━━━━━━━━━━━━━━\u001b[0m\u001b[37m\u001b[0m \u001b[1m18s\u001b[0m 2ms/step - loss: 51187.4688 - mse: 51187.4688 - val_loss: 53850.4727 - val_mse: 53850.4727\n",
      "Epoch 11/15\n",
      "\u001b[1m8048/8048\u001b[0m \u001b[32m━━━━━━━━━━━━━━━━━━━━\u001b[0m\u001b[37m\u001b[0m \u001b[1m19s\u001b[0m 2ms/step - loss: 50978.2539 - mse: 50978.2539 - val_loss: 54129.2383 - val_mse: 54129.2383\n",
      "Epoch 12/15\n",
      "\u001b[1m8048/8048\u001b[0m \u001b[32m━━━━━━━━━━━━━━━━━━━━\u001b[0m\u001b[37m\u001b[0m \u001b[1m16s\u001b[0m 2ms/step - loss: 50550.9258 - mse: 50550.9258 - val_loss: 53744.3359 - val_mse: 53744.3359\n",
      "Epoch 13/15\n",
      "\u001b[1m8048/8048\u001b[0m \u001b[32m━━━━━━━━━━━━━━━━━━━━\u001b[0m\u001b[37m\u001b[0m \u001b[1m19s\u001b[0m 2ms/step - loss: 52952.3047 - mse: 52952.3047 - val_loss: 53821.8398 - val_mse: 53821.8398\n",
      "Epoch 14/15\n",
      "\u001b[1m8048/8048\u001b[0m \u001b[32m━━━━━━━━━━━━━━━━━━━━\u001b[0m\u001b[37m\u001b[0m \u001b[1m18s\u001b[0m 2ms/step - loss: 50177.1641 - mse: 50177.1641 - val_loss: 53813.1914 - val_mse: 53813.1914\n",
      "Epoch 15/15\n",
      "\u001b[1m8048/8048\u001b[0m \u001b[32m━━━━━━━━━━━━━━━━━━━━\u001b[0m\u001b[37m\u001b[0m \u001b[1m18s\u001b[0m 2ms/step - loss: 52257.8047 - mse: 52257.8047 - val_loss: 53753.9805 - val_mse: 53753.9805\n"
     ]
    }
   ],
   "source": [
    "model_lstm = Sequential()\n",
    "model_lstm.add(LSTM(50, return_sequences = True, input_shape = (X_train_3D.shape[1], X_train_3D.shape[2])))\n",
    "model_lstm.add(LSTM(50))\n",
    "model_lstm.add(Dense(1))\n",
    "\n",
    "\n",
    "model_lstm.compile(loss = \"mean_squared_error\", optimizer = Adam(), metrics = [\"mse\"])\n",
    "\n",
    "\n",
    "history_lstm = model_lstm.fit(X_train_3D, y_train, epochs = 15, batch_size = 32, validation_split = 0.2)"
   ]
  },
  {
   "cell_type": "code",
   "execution_count": 22,
   "id": "48478749-1b67-46a0-8b70-9783d4a0abba",
   "metadata": {},
   "outputs": [
    {
     "data": {
      "image/png": "[encoded data removed]",
      "text/plain": [
       "<Figure size 1200x400 with 1 Axes>"
      ]
     },
     "metadata": {},
     "output_type": "display_data"
    }
   ],
   "source": [
    "# Plot LSTM training and validation loss values \n",
    "plt.figure(figsize = (12,4))\n",
    "plt.subplot(1, 2, 1)\n",
    "plt.plot(history_lstm.history[\"loss\"])\n",
    "plt.plot(history_lstm.history[\"val_loss\"])\n",
    "plt.title(\"LSTM RNN Model Loss\")\n",
    "plt.ylabel(\"Loss\")\n",
    "plt.xlabel(\"Epoch\")\n",
    "plt.legend([\"Train\", \"Validation\"], loc = \"upper right\")\n",
    "plt.show();"
   ]
  },
  {
   "cell_type": "code",
   "execution_count": 26,
   "id": "47f126b9-c482-42c7-a871-f616a9faeb8f",
   "metadata": {},
   "outputs": [
    {
     "ename": "ValueError",
     "evalue": "Cannot take the length of shape with unknown rank.",
     "output_type": "error",
     "traceback": [
      "\u001b[0;31m---------------------------------------------------------------------------\u001b[0m",
      "\u001b[0;31mValueError\u001b[0m                                Traceback (most recent call last)",
      "Cell \u001b[0;32mIn[26], line 1\u001b[0m\n\u001b[0;32m----> 1\u001b[0m model_lstm\u001b[38;5;241m.\u001b[39mevaluate(X_test_3D, y_test_3D)\n",
      "File \u001b[0;32m/opt/anaconda3/lib/python3.12/site-packages/keras/src/utils/traceback_utils.py:122\u001b[0m, in \u001b[0;36mfilter_traceback.<locals>.error_handler\u001b[0;34m(*args, **kwargs)\u001b[0m\n\u001b[1;32m    119\u001b[0m     filtered_tb \u001b[38;5;241m=\u001b[39m _process_traceback_frames(e\u001b[38;5;241m.\u001b[39m__traceback__)\n\u001b[1;32m    120\u001b[0m     \u001b[38;5;66;03m# To get the full stack trace, call:\u001b[39;00m\n\u001b[1;32m    121\u001b[0m     \u001b[38;5;66;03m# `keras.config.disable_traceback_filtering()`\u001b[39;00m\n\u001b[0;32m--> 122\u001b[0m     \u001b[38;5;28;01mraise\u001b[39;00m e\u001b[38;5;241m.\u001b[39mwith_traceback(filtered_tb) \u001b[38;5;28;01mfrom\u001b[39;00m \u001b[38;5;28;01mNone\u001b[39;00m\n\u001b[1;32m    123\u001b[0m \u001b[38;5;28;01mfinally\u001b[39;00m:\n\u001b[1;32m    124\u001b[0m     \u001b[38;5;28;01mdel\u001b[39;00m filtered_tb\n",
      "File \u001b[0;32m/opt/anaconda3/lib/python3.12/site-packages/keras/src/losses/loss.py:107\u001b[0m, in \u001b[0;36msqueeze_or_expand_to_same_rank\u001b[0;34m(x1, x2, expand_rank_1)\u001b[0m\n\u001b[1;32m    105\u001b[0m \u001b[38;5;28;01mdef\u001b[39;00m \u001b[38;5;21msqueeze_or_expand_to_same_rank\u001b[39m(x1, x2, expand_rank_1\u001b[38;5;241m=\u001b[39m\u001b[38;5;28;01mTrue\u001b[39;00m):\n\u001b[1;32m    106\u001b[0m \u001b[38;5;250m    \u001b[39m\u001b[38;5;124;03m\"\"\"Squeeze/expand last dim if ranks differ from expected by exactly 1.\"\"\"\u001b[39;00m\n\u001b[0;32m--> 107\u001b[0m     x1_rank \u001b[38;5;241m=\u001b[39m \u001b[38;5;28mlen\u001b[39m(x1\u001b[38;5;241m.\u001b[39mshape)\n\u001b[1;32m    108\u001b[0m     x2_rank \u001b[38;5;241m=\u001b[39m \u001b[38;5;28mlen\u001b[39m(x2\u001b[38;5;241m.\u001b[39mshape)\n\u001b[1;32m    109\u001b[0m     \u001b[38;5;28;01mif\u001b[39;00m x1_rank \u001b[38;5;241m==\u001b[39m x2_rank:\n",
      "\u001b[0;31mValueError\u001b[0m: Cannot take the length of shape with unknown rank."
     ]
    }
   ],
   "source": []
  },
  {
   "cell_type": "markdown",
   "id": "eeea889a-d1bc-4059-9b6d-3ba5fca75c36",
   "metadata": {},
   "source": [
    "### Training the GRU RNN"
   ]
  },
  {
   "cell_type": "code",
   "execution_count": 29,
   "id": "215ccc98-b6d4-49be-93d9-bc1cf7a839ce",
   "metadata": {},
   "outputs": [
    {
     "name": "stderr",
     "output_type": "stream",
     "text": [
      "/opt/anaconda3/lib/python3.12/site-packages/keras/src/layers/rnn/rnn.py:204: UserWarning: Do not pass an `input_shape`/`input_dim` argument to a layer. When using Sequential models, prefer using an `Input(shape)` object as the first layer in the model instead.\n",
      "  super().__init__(**kwargs)\n"
     ]
    },
    {
     "name": "stdout",
     "output_type": "stream",
     "text": [
      "Epoch 1/15\n",
      "\u001b[1m8048/8048\u001b[0m \u001b[32m━━━━━━━━━━━━━━━━━━━━\u001b[0m\u001b[37m\u001b[0m \u001b[1m18s\u001b[0m 2ms/step - loss: 86310.6641 - mse: 86310.6641 - val_loss: 59994.0273 - val_mse: 59994.0273\n",
      "Epoch 2/15\n",
      "\u001b[1m8048/8048\u001b[0m \u001b[32m━━━━━━━━━━━━━━━━━━━━\u001b[0m\u001b[37m\u001b[0m \u001b[1m17s\u001b[0m 2ms/step - loss: 55483.3594 - mse: 55483.3594 - val_loss: 55558.1328 - val_mse: 55558.1328\n",
      "Epoch 3/15\n",
      "\u001b[1m8048/8048\u001b[0m \u001b[32m━━━━━━━━━━━━━━━━━━━━\u001b[0m\u001b[37m\u001b[0m \u001b[1m17s\u001b[0m 2ms/step - loss: 53331.0898 - mse: 53331.0898 - val_loss: 54743.6133 - val_mse: 54743.6133\n",
      "Epoch 4/15\n",
      "\u001b[1m8048/8048\u001b[0m \u001b[32m━━━━━━━━━━━━━━━━━━━━\u001b[0m\u001b[37m\u001b[0m \u001b[1m17s\u001b[0m 2ms/step - loss: 51465.0391 - mse: 51465.0391 - val_loss: 54454.9922 - val_mse: 54454.9922\n",
      "Epoch 5/15\n",
      "\u001b[1m8048/8048\u001b[0m \u001b[32m━━━━━━━━━━━━━━━━━━━━\u001b[0m\u001b[37m\u001b[0m \u001b[1m17s\u001b[0m 2ms/step - loss: 51070.0312 - mse: 51070.0312 - val_loss: 54360.2930 - val_mse: 54360.2930\n",
      "Epoch 6/15\n",
      "\u001b[1m8048/8048\u001b[0m \u001b[32m━━━━━━━━━━━━━━━━━━━━\u001b[0m\u001b[37m\u001b[0m \u001b[1m17s\u001b[0m 2ms/step - loss: 51750.7656 - mse: 51750.7656 - val_loss: 54258.8516 - val_mse: 54258.8516\n",
      "Epoch 7/15\n",
      "\u001b[1m8048/8048\u001b[0m \u001b[32m━━━━━━━━━━━━━━━━━━━━\u001b[0m\u001b[37m\u001b[0m \u001b[1m18s\u001b[0m 2ms/step - loss: 52147.0508 - mse: 52147.0508 - val_loss: 53934.1172 - val_mse: 53934.1172\n",
      "Epoch 8/15\n",
      "\u001b[1m8048/8048\u001b[0m \u001b[32m━━━━━━━━━━━━━━━━━━━━\u001b[0m\u001b[37m\u001b[0m \u001b[1m19s\u001b[0m 2ms/step - loss: 51615.4375 - mse: 51615.4375 - val_loss: 53886.6914 - val_mse: 53886.6914\n",
      "Epoch 9/15\n",
      "\u001b[1m8048/8048\u001b[0m \u001b[32m━━━━━━━━━━━━━━━━━━━━\u001b[0m\u001b[37m\u001b[0m \u001b[1m18s\u001b[0m 2ms/step - loss: 51479.7266 - mse: 51479.7266 - val_loss: 53776.6133 - val_mse: 53776.6133\n",
      "Epoch 10/15\n",
      "\u001b[1m8048/8048\u001b[0m \u001b[32m━━━━━━━━━━━━━━━━━━━━\u001b[0m\u001b[37m\u001b[0m \u001b[1m17s\u001b[0m 2ms/step - loss: 50954.6641 - mse: 50954.6641 - val_loss: 53757.3906 - val_mse: 53757.3906\n",
      "Epoch 11/15\n",
      "\u001b[1m8048/8048\u001b[0m \u001b[32m━━━━━━━━━━━━━━━━━━━━\u001b[0m\u001b[37m\u001b[0m \u001b[1m17s\u001b[0m 2ms/step - loss: 50733.8086 - mse: 50733.8086 - val_loss: 53772.8320 - val_mse: 53772.8320\n",
      "Epoch 12/15\n",
      "\u001b[1m8048/8048\u001b[0m \u001b[32m━━━━━━━━━━━━━━━━━━━━\u001b[0m\u001b[37m\u001b[0m \u001b[1m17s\u001b[0m 2ms/step - loss: 50998.1992 - mse: 50998.1992 - val_loss: 53501.2266 - val_mse: 53501.2266\n",
      "Epoch 13/15\n",
      "\u001b[1m8048/8048\u001b[0m \u001b[32m━━━━━━━━━━━━━━━━━━━━\u001b[0m\u001b[37m\u001b[0m \u001b[1m18s\u001b[0m 2ms/step - loss: 50461.2500 - mse: 50461.2500 - val_loss: 53780.4062 - val_mse: 53780.4062\n",
      "Epoch 14/15\n",
      "\u001b[1m8048/8048\u001b[0m \u001b[32m━━━━━━━━━━━━━━━━━━━━\u001b[0m\u001b[37m\u001b[0m \u001b[1m17s\u001b[0m 2ms/step - loss: 50719.4023 - mse: 50719.4023 - val_loss: 53645.9141 - val_mse: 53645.9141\n",
      "Epoch 15/15\n",
      "\u001b[1m8048/8048\u001b[0m \u001b[32m━━━━━━━━━━━━━━━━━━━━\u001b[0m\u001b[37m\u001b[0m \u001b[1m17s\u001b[0m 2ms/step - loss: 51879.1016 - mse: 51879.1016 - val_loss: 53497.6133 - val_mse: 53497.6133\n"
     ]
    }
   ],
   "source": [
    "model_gru = Sequential()\n",
    "model_gru.add(GRU(50, return_sequences = True, input_shape = (X_train_3D.shape[1], X_train_3D.shape[2])))\n",
    "model_gru.add(GRU(50))\n",
    "model_gru.add(Dense(1))\n",
    "\n",
    "# Compile the model\n",
    "model_gru.compile(loss = \"mean_squared_error\", optimizer = Adam(), metrics = [\"mse\"])\n",
    "\n",
    "# Fit the model\n",
    "history_gru = model_gru.fit(X_train_3D, y_train, epochs = 15, batch_size = 32, validation_split = 0.2)"
   ]
  },
  {
   "cell_type": "code",
   "execution_count": 31,
   "id": "4b499c11-1854-4ed6-abd6-efbcb704d955",
   "metadata": {},
   "outputs": [
    {
     "data": {
      "image/png": "[encoded data removed]",
      "text/plain": [
       "<Figure size 1200x400 with 1 Axes>"
      ]
     },
     "metadata": {},
     "output_type": "display_data"
    }
   ],
   "source": [
    "plt.figure(figsize = (12,4))\n",
    "plt.subplot(1, 2, 1)\n",
    "plt.plot(history_gru.history[\"loss\"])\n",
    "plt.plot(history_gru.history[\"val_loss\"])\n",
    "plt.title(\"GRU RNN Model Loss\")\n",
    "plt.ylabel(\"Loss\")\n",
    "plt.xlabel(\"Epoch\")\n",
    "plt.legend([\"Train\", \"Validation\"], loc = \"upper right\")\n",
    "plt.show();\n",
    "     "
   ]
  },
  {
   "cell_type": "code",
   "execution_count": null,
   "id": "44ca0bce-a4f2-4e39-946b-38f8f951f2d8",
   "metadata": {},
   "outputs": [],
   "source": []
  }
 ],
 "metadata": {
  "kernelspec": {
   "display_name": "Python 3 (ipykernel)",
   "language": "python",
   "name": "python3"
  },
  "language_info": {
   "codemirror_mode": {
    "name": "ipython",
    "version": 3
   },
   "file_extension": ".py",
   "mimetype": "text/x-python",
   "name": "python",
   "nbconvert_exporter": "python",
   "pygments_lexer": "ipython3",
   "version": "3.12.4"
  }
 },
 "nbformat": 4,
 "nbformat_minor": 5
}
